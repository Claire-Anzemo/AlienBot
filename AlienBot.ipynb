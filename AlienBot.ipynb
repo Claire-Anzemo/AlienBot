{
  "nbformat": 4,
  "nbformat_minor": 0,
  "metadata": {
    "colab": {
      "provenance": [],
      "authorship_tag": "ABX9TyMu5/kTteY08vluLEZnJ/i3"
    },
    "kernelspec": {
      "name": "python3",
      "display_name": "Python 3"
    },
    "language_info": {
      "name": "python"
    }
  },
  "cells": [
    {
      "cell_type": "code",
      "execution_count": 2,
      "metadata": {
        "id": "fhetV0tDa2Ht"
      },
      "outputs": [],
      "source": [
        "import re\n",
        "import random"
      ]
    },
    {
      "cell_type": "code",
      "source": [
        "import random\n",
        "import re\n",
        "\n",
        "class Rulebot:\n",
        "    ### potential negative response\n",
        "    negative_responses = (\"nop\", \"no\", \"naw\", \"not a chance\", \"sorry\", \"not at all\")\n",
        "    ### exit conversation keywords\n",
        "    exit_commands = (\"quit\", \"bye\", \"maybe later\", \"pause\", \"goodbye\", \"later\",\"ok bye\",\"thank you for your time\")\n",
        "    ### random starter questions\n",
        "    random_questions = (\n",
        "        \"why are you here?\",\n",
        "        \"are there many humans like you?\",\n",
        "        \"what do you consume for sustenance?\",\n",
        "        \"is there intelligent life on this planet?\",\n",
        "        \"does earth have a leader?\",\n",
        "        \"what planets have you visited?\",\n",
        "        \"what technology do you have on this planet?\"\n",
        "    )\n",
        "\n",
        "    def __init__(self):\n",
        "        self.alienbabble = {'describe_planet_intent': r'.*\\s*your planet.*',\n",
        "                            'answere_why_intent': r'why\\sare.*',\n",
        "                            'about_intellipat': r'.*\\s*intellipat'}\n",
        "\n",
        "    def greet(self):\n",
        "        self.name = input('What is your name?\\n')\n",
        "        will_help = input(f\"Hi {self.name}, I am rule-bot. Will you help me learn about your planet?\\n\")\n",
        "        if will_help in self.negative_responses:\n",
        "            print(\"Ok, have a nice day on earth!\")\n",
        "            return\n",
        "        self.chat()\n",
        "\n",
        "    def make_exit(self, reply):\n",
        "        for command in self.exit_commands:\n",
        "            if reply == command:\n",
        "                print(\"Ok, have a nice earth day!\")\n",
        "                return True\n",
        "\n",
        "    def chat(self):\n",
        "        reply = input(random.choice(self.random_questions)).lower()\n",
        "        while not self.make_exit(reply):\n",
        "            reply = input(self.match_reply(reply))\n",
        "\n",
        "    def match_reply(self, reply):\n",
        "        for key, value in self.alienbabble.items():\n",
        "            intent = key\n",
        "            regex_pattern = value\n",
        "            found_match = re.match(regex_pattern, reply)\n",
        "            if found_match and intent == 'describe_planet_intent':\n",
        "                return self.describe_planet_intent()\n",
        "            elif found_match and intent == 'answere_why_intent':\n",
        "                return self.answere_why_intent()\n",
        "            elif found_match and intent == 'about_intellipat':\n",
        "                return self.about_intellipat()\n",
        "        if not found_match:\n",
        "            return self.no_match_intent()\n",
        "\n",
        "    def describe_planet_intent(self):\n",
        "        responses = (\"My planet is a utopia of diverse organisms and species.\\n\", \"I am from opidipus, the capital of the wayward galaxies.\\n\")\n",
        "        return random.choice(responses)\n",
        "\n",
        "    def answere_why_intent(self):\n",
        "        responses = (\"I come in peace\\n\", \"I am here to collect data on your planet and its inhabitants\\n\", \"I heard the coffee is good\\n\")\n",
        "        return random.choice(responses)\n",
        "\n",
        "    def about_intellipat(self):\n",
        "        responses = (\"Intellipaat is the world's largest professional educational company.\\n\",\n",
        "                     \"Intellipaat will make you learn concepts in a way never learnt\\n\",\n",
        "                     \"Intellipaat is where your career and skills grow\\n\")\n",
        "        return random.choice(responses)\n",
        "\n",
        "    def no_match_intent(self):\n",
        "        responses = (\n",
        "            \"Please tell me more\\n\", \"Why do you say that\\n\", \"I see, can you elaborate?\\n\", \"Interesting, can you tell me more\\n\",\n",
        "            \"I see, how do you think?\\n\", \"Why\\n\", \"How do you think I feel when you say that?\\n\"\n",
        "        )\n",
        "        return random.choice(responses)\n",
        "\n",
        "Alienbot = Rulebot()\n",
        "Alienbot.greet()\n",
        "\n",
        ""
      ],
      "metadata": {
        "colab": {
          "base_uri": "https://localhost:8080/"
        },
        "id": "rm2WnKz7bwh0",
        "outputId": "3b2f9228-f6b1-4ced-d8db-6f43f0f89b12"
      },
      "execution_count": 7,
      "outputs": [
        {
          "output_type": "stream",
          "name": "stdout",
          "text": [
            "What is your name?\n",
            "stacy\n",
            "Hi stacy, I am rule-bot. Will you help me learn about your planet?\n",
            "ok,amm from earth\n",
            "does earth have a leader?what about your planet?\n",
            "My planet is a utopia of diverse organisms and species.\n",
            "what do you it there\n",
            "Please tell me more\n",
            "ok thanks for your time\n",
            "How do you think I feel when you say that?\n",
            "thank you for your time\n",
            "Ok, have a nice earth day!\n"
          ]
        }
      ]
    }
  ]
}